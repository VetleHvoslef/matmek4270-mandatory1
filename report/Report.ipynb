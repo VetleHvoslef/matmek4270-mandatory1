{
 "cells": [
  {
   "cell_type": "markdown",
   "id": "f318aee4-bc47-474b-b59c-4ab278a03b7a",
   "metadata": {},
   "source": [
    "Dette [her er lenken](https://en.wikipedia.org/wiki/Wave_equation#Dispersion_relation) jeg referer til i **1.2.3**, bruker også denne [lenka her](https://en.wikipedia.org/wiki/Wave_vector#Definition) i de to opppgavene:"
   ]
  },
  {
   "cell_type": "markdown",
   "id": "fa1dcb5d-9429-4dc6-bfbe-f567b002fb2c",
   "metadata": {},
   "source": [
    "![Oppgave_1_2_3](side_1.jpg)"
   ]
  },
  {
   "cell_type": "markdown",
   "id": "79ab3e45-d472-49d0-8ad2-33601f037453",
   "metadata": {},
   "source": [
    "![Oppgave_1_2_4](side_2.jpg)"
   ]
  }
 ],
 "metadata": {
  "kernelspec": {
   "display_name": "Python 3 (ipykernel)",
   "language": "python",
   "name": "python3"
  },
  "language_info": {
   "codemirror_mode": {
    "name": "ipython",
    "version": 3
   },
   "file_extension": ".py",
   "mimetype": "text/x-python",
   "name": "python",
   "nbconvert_exporter": "python",
   "pygments_lexer": "ipython3",
   "version": "3.12.0"
  }
 },
 "nbformat": 4,
 "nbformat_minor": 5
}
